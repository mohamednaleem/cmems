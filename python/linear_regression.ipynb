{
 "cells": [
  {
   "cell_type": "code",
   "execution_count": null,
   "metadata": {},
   "outputs": [],
   "source": [
    "import pandas as pd\n",
    "from sklearn.model_selection import train_test_split\n",
    "from sklearn.linear_model import LinearRegression\n",
    "from sklearn.metrics import mean_squared_error, r2_score\n",
    "\n",
    "# Load the dataset\n",
    "url = \"https://archive.ics.uci.edu/ml/machine-learning-databases/autos/imports-85.data\"\n",
    "column_names = [\n",
    "    \"symboling\", \"normalized_losses\", \"make\", \"fuel_type\", \"aspiration\", \"num_doors\",\n",
    "    \"body_style\", \"drive_wheels\", \"engine_location\", \"wheel_base\", \"length\", \"width\",\n",
    "    \"height\", \"curb_weight\", \"engine_type\", \"num_cylinders\", \"engine_size\",\n",
    "    \"fuel_system\", \"bore\", \"stroke\", \"compression_ratio\", \"horsepower\", \"peak_rpm\",\n",
    "    \"city_mpg\", \"highway_mpg\", \"price\"\n",
    "]\n",
    "data = pd.read_csv(url, names=column_names)\n",
    "\n",
    "# Display the first few rows of the dataset\n",
    "print(data.head())\n",
    "\n",
    "# Preprocess the data\n",
    "data.replace(\"?\", pd.NA, inplace=True)\n",
    "data.dropna(subset=[\"price\"], inplace=True)\n",
    "data[\"price\"] = data[\"price\"].astype(float)\n",
    "\n",
    "# Convert columns to numeric, forcing non-numeric values to NaN\n",
    "for column in [\"normalized_losses\", \"bore\", \"stroke\", \"horsepower\", \"peak_rpm\"]:\n",
    "    data[column] = pd.to_numeric(data[column], errors='coerce')\n",
    "    data[column].fillna(data[column].mean(), inplace=True)\n",
    "\n",
    "# Select features and target variable\n",
    "features = [\"wheel_base\", \"length\", \"width\", \"curb_weight\", \"engine_size\", \n",
    "            \"horsepower\", \"city_mpg\", \"highway_mpg\"]\n",
    "X = data[features]\n",
    "y = data[\"price\"]\n",
    "\n",
    "# Split the data into training and testing sets\n",
    "X_train, X_test, y_train, y_test = train_test_split(X, y, test_size=0.2, random_state=42)\n",
    "\n",
    "# Build and train the Linear Regression model\n",
    "model = LinearRegression()\n",
    "model.fit(X_train, y_train)\n",
    "\n",
    "# Make predictions on the test set\n",
    "y_pred = model.predict(X_test)\n",
    "\n",
    "# Evaluate the model\n",
    "mse = mean_squared_error(y_test, y_pred)\n",
    "r2 = r2_score(y_test, y_pred)\n",
    "\n",
    "print(f\"Mean Squared Error: {mse}\")\n",
    "print(f\"R-squared: {r2}\")\n"
   ]
  }
 ],
 "metadata": {
  "kernelspec": {
   "display_name": "Python 3",
   "language": "python",
   "name": "python3"
  },
  "language_info": {
   "name": "python",
   "version": "3.12.6"
  }
 },
 "nbformat": 4,
 "nbformat_minor": 2
}
